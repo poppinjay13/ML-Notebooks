{
  "nbformat": 4,
  "nbformat_minor": 0,
  "metadata": {
    "colab": {
      "name": "Data Preprocssing.ipynb",
      "provenance": [],
      "collapsed_sections": []
    },
    "kernelspec": {
      "name": "python3",
      "display_name": "Python 3"
    }
  },
  "cells": [
    {
      "cell_type": "markdown",
      "metadata": {
        "id": "JwmYOI24g0nY",
        "colab_type": "text"
      },
      "source": [
        "->Add imports as needed here or inline. Comment your code and don't interfere with code you're not working on."
      ]
    },
    {
      "cell_type": "markdown",
      "metadata": {
        "id": "ne8IlABG9c4Z",
        "colab_type": "text"
      },
      "source": [
        "Imports of the california housing dataset and resources"
      ]
    },
    {
      "cell_type": "code",
      "metadata": {
        "id": "0I_1Obyv8ojB",
        "colab_type": "code",
        "colab": {}
      },
      "source": [
        "import numpy as np\n",
        "import pandas as pd\n",
        "import random\n",
        "\n",
        "from sklearn.datasets import fetch_california_housing"
      ],
      "execution_count": 0,
      "outputs": []
    },
    {
      "cell_type": "markdown",
      "metadata": {
        "id": "TO7lSdTZhkuL",
        "colab_type": "text"
      },
      "source": [
        "->Filling Missing Values Starts here"
      ]
    },
    {
      "cell_type": "markdown",
      "metadata": {
        "id": "uoHA2c8eJP4d",
        "colab_type": "text"
      },
      "source": [
        "Importing the data and saving it into pandas data frame for manipulation"
      ]
    },
    {
      "cell_type": "code",
      "metadata": {
        "id": "m-189pk1ID6u",
        "colab_type": "code",
        "colab": {}
      },
      "source": [
        "housing = fetch_california_housing()\n",
        "df = pd.DataFrame(housing.data, columns=housing.feature_names)"
      ],
      "execution_count": 0,
      "outputs": []
    },
    {
      "cell_type": "code",
      "metadata": {
        "id": "A5UMP2j8R1oU",
        "colab_type": "code",
        "colab": {
          "base_uri": "https://localhost:8080/",
          "height": 300
        },
        "outputId": "1a5fc491-6d19-4d80-ced1-8e42c8094937"
      },
      "source": [
        "df.describe()"
      ],
      "execution_count": 67,
      "outputs": [
        {
          "output_type": "execute_result",
          "data": {
            "text/html": [
              "<div>\n",
              "<style scoped>\n",
              "    .dataframe tbody tr th:only-of-type {\n",
              "        vertical-align: middle;\n",
              "    }\n",
              "\n",
              "    .dataframe tbody tr th {\n",
              "        vertical-align: top;\n",
              "    }\n",
              "\n",
              "    .dataframe thead th {\n",
              "        text-align: right;\n",
              "    }\n",
              "</style>\n",
              "<table border=\"1\" class=\"dataframe\">\n",
              "  <thead>\n",
              "    <tr style=\"text-align: right;\">\n",
              "      <th></th>\n",
              "      <th>MedInc</th>\n",
              "      <th>HouseAge</th>\n",
              "      <th>AveRooms</th>\n",
              "      <th>AveBedrms</th>\n",
              "      <th>Population</th>\n",
              "      <th>AveOccup</th>\n",
              "      <th>Latitude</th>\n",
              "      <th>Longitude</th>\n",
              "    </tr>\n",
              "  </thead>\n",
              "  <tbody>\n",
              "    <tr>\n",
              "      <th>count</th>\n",
              "      <td>20640.000000</td>\n",
              "      <td>20640.000000</td>\n",
              "      <td>20640.000000</td>\n",
              "      <td>20640.000000</td>\n",
              "      <td>20640.000000</td>\n",
              "      <td>20640.000000</td>\n",
              "      <td>20640.000000</td>\n",
              "      <td>20640.000000</td>\n",
              "    </tr>\n",
              "    <tr>\n",
              "      <th>mean</th>\n",
              "      <td>3.871937</td>\n",
              "      <td>28.585932</td>\n",
              "      <td>5.427192</td>\n",
              "      <td>1.096763</td>\n",
              "      <td>1423.733219</td>\n",
              "      <td>3.060181</td>\n",
              "      <td>35.633788</td>\n",
              "      <td>-119.565009</td>\n",
              "    </tr>\n",
              "    <tr>\n",
              "      <th>std</th>\n",
              "      <td>1.796824</td>\n",
              "      <td>11.926464</td>\n",
              "      <td>2.383049</td>\n",
              "      <td>0.460484</td>\n",
              "      <td>1077.438946</td>\n",
              "      <td>9.781127</td>\n",
              "      <td>2.029011</td>\n",
              "      <td>1.901034</td>\n",
              "    </tr>\n",
              "    <tr>\n",
              "      <th>min</th>\n",
              "      <td>0.499900</td>\n",
              "      <td>1.000000</td>\n",
              "      <td>0.846154</td>\n",
              "      <td>0.333333</td>\n",
              "      <td>3.000000</td>\n",
              "      <td>0.692308</td>\n",
              "      <td>32.540000</td>\n",
              "      <td>-124.300000</td>\n",
              "    </tr>\n",
              "    <tr>\n",
              "      <th>25%</th>\n",
              "      <td>2.663050</td>\n",
              "      <td>19.000000</td>\n",
              "      <td>4.531709</td>\n",
              "      <td>1.010926</td>\n",
              "      <td>826.000000</td>\n",
              "      <td>2.478627</td>\n",
              "      <td>33.970000</td>\n",
              "      <td>-121.500000</td>\n",
              "    </tr>\n",
              "    <tr>\n",
              "      <th>50%</th>\n",
              "      <td>3.757800</td>\n",
              "      <td>28.585932</td>\n",
              "      <td>5.393319</td>\n",
              "      <td>1.057867</td>\n",
              "      <td>1266.500000</td>\n",
              "      <td>2.904575</td>\n",
              "      <td>35.330000</td>\n",
              "      <td>-119.280000</td>\n",
              "    </tr>\n",
              "    <tr>\n",
              "      <th>75%</th>\n",
              "      <td>4.578250</td>\n",
              "      <td>36.000000</td>\n",
              "      <td>5.944873</td>\n",
              "      <td>1.096763</td>\n",
              "      <td>1640.000000</td>\n",
              "      <td>3.217008</td>\n",
              "      <td>37.630000</td>\n",
              "      <td>-118.080000</td>\n",
              "    </tr>\n",
              "    <tr>\n",
              "      <th>max</th>\n",
              "      <td>15.000100</td>\n",
              "      <td>52.000000</td>\n",
              "      <td>141.909091</td>\n",
              "      <td>34.066667</td>\n",
              "      <td>35682.000000</td>\n",
              "      <td>1243.333333</td>\n",
              "      <td>41.950000</td>\n",
              "      <td>-114.310000</td>\n",
              "    </tr>\n",
              "  </tbody>\n",
              "</table>\n",
              "</div>"
            ],
            "text/plain": [
              "             MedInc      HouseAge  ...      Latitude     Longitude\n",
              "count  20640.000000  20640.000000  ...  20640.000000  20640.000000\n",
              "mean       3.871937     28.585932  ...     35.633788   -119.565009\n",
              "std        1.796824     11.926464  ...      2.029011      1.901034\n",
              "min        0.499900      1.000000  ...     32.540000   -124.300000\n",
              "25%        2.663050     19.000000  ...     33.970000   -121.500000\n",
              "50%        3.757800     28.585932  ...     35.330000   -119.280000\n",
              "75%        4.578250     36.000000  ...     37.630000   -118.080000\n",
              "max       15.000100     52.000000  ...     41.950000   -114.310000\n",
              "\n",
              "[8 rows x 8 columns]"
            ]
          },
          "metadata": {
            "tags": []
          },
          "execution_count": 67
        }
      ]
    },
    {
      "cell_type": "code",
      "metadata": {
        "id": "HdjaWX4bR5vN",
        "colab_type": "code",
        "colab": {}
      },
      "source": [
        "df.isnull().sum()"
      ],
      "execution_count": 0,
      "outputs": []
    },
    {
      "cell_type": "markdown",
      "metadata": {
        "id": "_HeunQB0PKcT",
        "colab_type": "text"
      },
      "source": [
        "After some deliberation we noticed that there were no missing values so we randomly set sone NaN values then fixed them"
      ]
    },
    {
      "cell_type": "code",
      "metadata": {
        "id": "g963qEzZPUYa",
        "colab_type": "code",
        "colab": {}
      },
      "source": [
        "ix = [(row, col) for row in range(df.shape[0]) for col in range(df.shape[1])]\n",
        "for row, col in random.sample(ix, int(round(.1*len(ix)))):\n",
        "    df.iat[row, col] = np.nan"
      ],
      "execution_count": 0,
      "outputs": []
    },
    {
      "cell_type": "code",
      "metadata": {
        "id": "tg1SAvgER9IR",
        "colab_type": "code",
        "colab": {}
      },
      "source": [
        "df.isnull().sum()"
      ],
      "execution_count": 0,
      "outputs": []
    },
    {
      "cell_type": "code",
      "metadata": {
        "id": "WFoZMAhBSjYD",
        "colab_type": "code",
        "colab": {}
      },
      "source": [
        "df.fillna(df.mean(), inplace=True)"
      ],
      "execution_count": 0,
      "outputs": []
    },
    {
      "cell_type": "code",
      "metadata": {
        "id": "T08Gp1yOTY1H",
        "colab_type": "code",
        "colab": {}
      },
      "source": [
        "df.isnull().sum()"
      ],
      "execution_count": 0,
      "outputs": []
    },
    {
      "cell_type": "markdown",
      "metadata": {
        "id": "2MSmMDtxgbg1",
        "colab_type": "text"
      },
      "source": [
        "->Do encoding Below this"
      ]
    },
    {
      "cell_type": "code",
      "metadata": {
        "id": "5Kgpy5OKgswM",
        "colab_type": "code",
        "colab": {}
      },
      "source": [
        "housing = fetch_california_housing()"
      ],
      "execution_count": 0,
      "outputs": []
    },
    {
      "cell_type": "markdown",
      "metadata": {
        "id": "a5ePkGvPgjEI",
        "colab_type": "text"
      },
      "source": [
        "->Do feature selection below this"
      ]
    },
    {
      "cell_type": "code",
      "metadata": {
        "id": "TF-7Om8Pgvku",
        "colab_type": "code",
        "colab": {}
      },
      "source": [
        "housing = fetch_california_housing()"
      ],
      "execution_count": 0,
      "outputs": []
    },
    {
      "cell_type": "markdown",
      "metadata": {
        "id": "j5pBxxNNgm7c",
        "colab_type": "text"
      },
      "source": [
        "->Do feature extraction below this"
      ]
    },
    {
      "cell_type": "code",
      "metadata": {
        "id": "KCPYEx2jgwtc",
        "colab_type": "code",
        "colab": {}
      },
      "source": [
        "housing = fetch_california_housing()"
      ],
      "execution_count": 0,
      "outputs": []
    }
  ]
}