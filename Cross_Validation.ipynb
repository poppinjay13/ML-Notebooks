{
  "nbformat": 4,
  "nbformat_minor": 0,
  "metadata": {
    "colab": {
      "name": "Cross Validation.ipynb",
      "provenance": [],
      "collapsed_sections": []
    },
    "kernelspec": {
      "name": "python3",
      "display_name": "Python 3"
    }
  },
  "cells": [
    {
      "cell_type": "code",
      "metadata": {
        "id": "ZPhPZxNVp-TY",
        "colab_type": "code",
        "colab": {}
      },
      "source": [
        "import numpy as np\n",
        "import pandas as pd\n",
        "import matplotlib.pyplot as plt\n",
        "import seaborn as sns\n",
        "\n",
        "from sklearn.datasets import fetch_california_housing\n",
        "from sklearn.model_selection import KFold"
      ],
      "execution_count": 0,
      "outputs": []
    },
    {
      "cell_type": "markdown",
      "metadata": {
        "id": "mA_WJgkkV2JH",
        "colab_type": "text"
      },
      "source": [
        "Importing dependencies"
      ]
    },
    {
      "cell_type": "code",
      "metadata": {
        "id": "hbgoQ-T5SrX8",
        "colab_type": "code",
        "colab": {}
      },
      "source": [
        "housing = fetch_california_housing()"
      ],
      "execution_count": 0,
      "outputs": []
    },
    {
      "cell_type": "markdown",
      "metadata": {
        "id": "3Vvc6xZOVzuj",
        "colab_type": "text"
      },
      "source": [
        "Importing the dataset"
      ]
    },
    {
      "cell_type": "code",
      "metadata": {
        "id": "lhkkhgAKSyYN",
        "colab_type": "code",
        "colab": {}
      },
      "source": [
        "K = 4\n",
        "kf = KFold(n_splits = K, shuffle = True)\n",
        "for train, test in kf.split(housing):\n",
        "  print (\"%s %s\" % (train, test))"
      ],
      "execution_count": 0,
      "outputs": []
    },
    {
      "cell_type": "markdown",
      "metadata": {
        "id": "DtqyphsyU0mN",
        "colab_type": "text"
      },
      "source": [
        "A higher value of K means less accuraccy in the testing set depending on data size. For instance, using a K of 10 in data with only 10 records means only 1 will be used for testing, hence not a good determinant of accuraccy but if there are 10,000 records and 1000 are used for testing, it might be an accurate determinant. The default recommended value of K is 5 to give 20% of the reecords for testing the model's accuracy"
      ]
    }
  ]
}